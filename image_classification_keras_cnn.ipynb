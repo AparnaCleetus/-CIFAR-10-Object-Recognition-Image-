{
  "nbformat": 4,
  "nbformat_minor": 0,
  "metadata": {
    "colab": {
      "name": "image_classification_keras.ipynb",
      "provenance": [],
      "collapsed_sections": []
    },
    "kernelspec": {
      "name": "python3",
      "display_name": "Python 3"
    },
    "accelerator": "TPU"
  },
  "cells": [
    {
      "cell_type": "code",
      "metadata": {
        "id": "FROckYvtl6xs",
        "colab_type": "code",
        "colab": {}
      },
      "source": [
        "from matplotlib import pyplot\n",
        "from tensorflow import keras\n",
        "import pickle\n",
        "import numpy as np\n",
        "import matplotlib.pyplot as plt\n",
        "import tensorflow as tf\n",
        "from urllib.request import urlretrieve\n",
        "from os.path import isfile, isdir\n",
        "from tqdm import tqdm \n",
        "import tarfile\n",
        "cifar10_dataset_folder_path = 'cifar-10-batches-py'"
      ],
      "execution_count": 12,
      "outputs": []
    },
    {
      "cell_type": "code",
      "metadata": {
        "id": "QQeA-q7ExR4S",
        "colab_type": "code",
        "colab": {
          "base_uri": "https://localhost:8080/",
          "height": 34
        },
        "outputId": "bceb2ffb-aa6a-4963-b920-69f943fe5978"
      },
      "source": [
        "cifar10_dataset_folder_path = 'cifar-10-batches-py'\n",
        "\n",
        "class DownloadProgress(tqdm):\n",
        "    last_block = 0\n",
        "\n",
        "    def hook(self, block_num=1, block_size=1, total_size=None):\n",
        "        self.total = total_size\n",
        "        self.update((block_num - self.last_block) * block_size)\n",
        "        self.last_block = block_num\n",
        "\n",
        "\"\"\" \n",
        "    check if the data (zip) file is already downloaded\n",
        "    if not, download it from \"https://www.cs.toronto.edu/~kriz/cifar-10-python.tar.gz\" and save as cifar-10-python.tar.gz\n",
        "\"\"\"\n",
        "if not isfile('cifar-10-python.tar.gz'):\n",
        "    with DownloadProgress(unit='B', unit_scale=True, miniters=1, desc='CIFAR-10 Dataset') as pbar:\n",
        "        urlretrieve(\n",
        "            'https://www.cs.toronto.edu/~kriz/cifar-10-python.tar.gz',\n",
        "            'cifar-10-python.tar.gz',\n",
        "            pbar.hook)\n",
        "\n",
        "if not isdir(cifar10_dataset_folder_path):\n",
        "    with tarfile.open('cifar-10-python.tar.gz') as tar:\n",
        "        tar.extractall()\n",
        "        tar.close()\n"
      ],
      "execution_count": 13,
      "outputs": [
        {
          "output_type": "stream",
          "text": [
            "CIFAR-10 Dataset: 171MB [00:02, 84.8MB/s]                           \n"
          ],
          "name": "stderr"
        }
      ]
    },
    {
      "cell_type": "code",
      "metadata": {
        "id": "ymaWJ797veGU",
        "colab_type": "code",
        "colab": {}
      },
      "source": [
        "#function to read data from all 5 batches of train data with labels\n",
        "def load_cfar10_batch(cifar10_dataset_folder_path):\n",
        "    image = []\n",
        "    label = []\n",
        "#each batch data is (10000 x 3072) matrix expressed in numpy\n",
        "#to feed this into our model we are reshaping the input data into (32*32*3) width x height x num_channel using reshape and transpose \n",
        "    for i in range(1,6):\n",
        "      with open(cifar10_dataset_folder_path + '/data_batch_' + str(i), mode='rb') as file:\n",
        "            batch = pickle.load(file, encoding='latin1')\n",
        "            image.append(batch['data'])\n",
        "            label.append(batch['labels'])\n",
        "    return np.array(image).reshape(50000,3072).reshape((50000,3, 32, 32)).transpose(0,2,3,1), np.array(label).reshape(50000)\n",
        "   "
      ],
      "execution_count": 14,
      "outputs": []
    },
    {
      "cell_type": "code",
      "metadata": {
        "id": "bOKcgFVz7Nh9",
        "colab_type": "code",
        "colab": {
          "base_uri": "https://localhost:8080/",
          "height": 50
        },
        "outputId": "be3ef4a6-80ae-41cd-8a4b-9072075bec81"
      },
      "source": [
        "train_image, train_lables = load_cfar10_batch(cifar10_dataset_folder_path)\n",
        "print(train_image.shape)\n",
        "print(len(train_lables))\n",
        "#create a list of the label names\n",
        "label_names = ['airplane', 'automobile', 'bird', 'cat', 'deer', 'dog', 'frog', 'horse', 'ship', 'truck']"
      ],
      "execution_count": 15,
      "outputs": [
        {
          "output_type": "stream",
          "text": [
            "(50000, 32, 32, 3)\n",
            "50000\n"
          ],
          "name": "stdout"
        }
      ]
    },
    {
      "cell_type": "code",
      "metadata": {
        "id": "mfVxpTltuk7z",
        "colab_type": "code",
        "colab": {
          "base_uri": "https://localhost:8080/",
          "height": 283
        },
        "outputId": "ddd369ee-bfb4-4c85-c5cd-0309502cd69a"
      },
      "source": [
        "#printing a sample image along with label\n",
        "print(label_names[train_lables[7]])\n",
        "plt.figure()\n",
        "plt.imshow(train_image[7])\n",
        "plt.colorbar()\n",
        "plt.grid(False)\n",
        "plt.show()"
      ],
      "execution_count": 16,
      "outputs": [
        {
          "output_type": "stream",
          "text": [
            "horse\n"
          ],
          "name": "stdout"
        },
        {
          "output_type": "display_data",
          "data": {
            "image/png": "[encoded data removed]",
            "text/plain": [
              "<Figure size 432x288 with 2 Axes>"
            ]
          },
          "metadata": {
            "tags": [],
            "needs_background": "light"
          }
        }
      ]
    },
    {
      "cell_type": "code",
      "metadata": {
        "id": "ev9WHIgPJ0CB",
        "colab_type": "code",
        "colab": {}
      },
      "source": [
        "#function to normalize the data using min_max  normalizer\n",
        "def normalize(x):\n",
        "  min_val = np.min(x)\n",
        "  max_val = np.max(x)\n",
        "  x = (x-min_val)/(max_val - min_val)\n",
        "  return x"
      ],
      "execution_count": 17,
      "outputs": []
    },
    {
      "cell_type": "code",
      "metadata": {
        "id": "6sFNB9qS62WF",
        "colab_type": "code",
        "colab": {
          "base_uri": "https://localhost:8080/",
          "height": 34
        },
        "outputId": "b73ecabd-8c3c-44d1-fd78-cc4c29274537"
      },
      "source": [
        "train_image = normalize(train_image)\n",
        "print(train_image.shape)"
      ],
      "execution_count": 18,
      "outputs": [
        {
          "output_type": "stream",
          "text": [
            "(50000, 32, 32, 3)\n"
          ],
          "name": "stdout"
        }
      ]
    },
    {
      "cell_type": "code",
      "metadata": {
        "id": "_lBVAdgJVIwv",
        "colab_type": "code",
        "colab": {}
      },
      "source": [
        "#function to load the test data\n",
        "def load_test_data(cifar10_dataset_folder_path):\n",
        "  with open(cifar10_dataset_folder_path + '/test_batch', mode='rb') as file:\n",
        "      batch = pickle.load(file, encoding='latin1')\n",
        "  return batch[\"data\"].reshape((len(batch['data']),3, 32, 32)).transpose(0,2,3,1), batch[\"labels\"]"
      ],
      "execution_count": 19,
      "outputs": []
    },
    {
      "cell_type": "code",
      "metadata": {
        "id": "1-j8yoirVM_u",
        "colab_type": "code",
        "colab": {}
      },
      "source": [
        "#load the test image and the corresponding class\n",
        "test_image, test_labels = load_test_data(cifar10_dataset_folder_path)\n",
        "test_image.shape\n",
        "test_image = normalize(test_image)\n",
        "test_labels = np.array(test_labels)"
      ],
      "execution_count": 20,
      "outputs": []
    },
    {
      "cell_type": "code",
      "metadata": {
        "id": "nYvmCgHnu_D-",
        "colab_type": "code",
        "colab": {
          "base_uri": "https://localhost:8080/",
          "height": 353
        },
        "outputId": "6cd794a3-acb9-4144-8b37-d25e2ac13c66"
      },
      "source": [
        "from tensorflow.keras import datasets, layers, models\n",
        "#building the model by specifying the different layers\n",
        "model = keras.Sequential()\n",
        "model.add(layers.Conv2D(32, (3, 3), activation='relu', input_shape=(32, 32, 3)))\n",
        "model.add(layers.MaxPooling2D((2, 2)))\n",
        "model.add(layers.Conv2D(32, (3, 3), activation='relu', input_shape=(32, 32, 3)))\n",
        "model.add(layers.Conv2D(64, (3, 3), activation='relu'))\n",
        "model.add(layers.MaxPooling2D((2, 2)))\n",
        "model.add(layers.Conv2D(64, (3, 3), activation='relu'))\n",
        "#display summary of the model trainable parameters\n",
        "model.summary()\n"
      ],
      "execution_count": 30,
      "outputs": [
        {
          "output_type": "stream",
          "text": [
            "Model: \"sequential_2\"\n",
            "_________________________________________________________________\n",
            "Layer (type)                 Output Shape              Param #   \n",
            "=================================================================\n",
            "conv2d_3 (Conv2D)            (None, 30, 30, 32)        896       \n",
            "_________________________________________________________________\n",
            "max_pooling2d_2 (MaxPooling2 (None, 15, 15, 32)        0         \n",
            "_________________________________________________________________\n",
            "conv2d_4 (Conv2D)            (None, 13, 13, 32)        9248      \n",
            "_________________________________________________________________\n",
            "conv2d_5 (Conv2D)            (None, 11, 11, 64)        18496     \n",
            "_________________________________________________________________\n",
            "max_pooling2d_3 (MaxPooling2 (None, 5, 5, 64)          0         \n",
            "_________________________________________________________________\n",
            "conv2d_6 (Conv2D)            (None, 3, 3, 64)          36928     \n",
            "=================================================================\n",
            "Total params: 65,568\n",
            "Trainable params: 65,568\n",
            "Non-trainable params: 0\n",
            "_________________________________________________________________\n"
          ],
          "name": "stdout"
        }
      ]
    },
    {
      "cell_type": "code",
      "metadata": {
        "id": "5VGT5WiKAp9i",
        "colab_type": "code",
        "colab": {
          "base_uri": "https://localhost:8080/",
          "height": 588
        },
        "outputId": "0afb0887-de4f-4ac5-f9b2-171892e7ac15"
      },
      "source": [
        "model.add(layers.Flatten())\n",
        "model.add(layers.Dense(64, activation='relu'))\n",
        "model.add(layers.Dense(32, activation='relu'))\n",
        "model.add(layers.Dense(10))\n",
        "model.summary()"
      ],
      "execution_count": 32,
      "outputs": [
        {
          "output_type": "stream",
          "text": [
            "Model: \"sequential_2\"\n",
            "_________________________________________________________________\n",
            "Layer (type)                 Output Shape              Param #   \n",
            "=================================================================\n",
            "conv2d_3 (Conv2D)            (None, 30, 30, 32)        896       \n",
            "_________________________________________________________________\n",
            "max_pooling2d_2 (MaxPooling2 (None, 15, 15, 32)        0         \n",
            "_________________________________________________________________\n",
            "conv2d_4 (Conv2D)            (None, 13, 13, 32)        9248      \n",
            "_________________________________________________________________\n",
            "conv2d_5 (Conv2D)            (None, 11, 11, 64)        18496     \n",
            "_________________________________________________________________\n",
            "max_pooling2d_3 (MaxPooling2 (None, 5, 5, 64)          0         \n",
            "_________________________________________________________________\n",
            "conv2d_6 (Conv2D)            (None, 3, 3, 64)          36928     \n",
            "_________________________________________________________________\n",
            "flatten_2 (Flatten)          (None, 576)               0         \n",
            "_________________________________________________________________\n",
            "dense_4 (Dense)              (None, 64)                36928     \n",
            "_________________________________________________________________\n",
            "dense_5 (Dense)              (None, 10)                650       \n",
            "_________________________________________________________________\n",
            "flatten_3 (Flatten)          (None, 10)                0         \n",
            "_________________________________________________________________\n",
            "dense_6 (Dense)              (None, 64)                704       \n",
            "_________________________________________________________________\n",
            "dense_7 (Dense)              (None, 32)                2080      \n",
            "_________________________________________________________________\n",
            "dense_8 (Dense)              (None, 10)                330       \n",
            "=================================================================\n",
            "Total params: 106,260\n",
            "Trainable params: 106,260\n",
            "Non-trainable params: 0\n",
            "_________________________________________________________________\n"
          ],
          "name": "stdout"
        }
      ]
    },
    {
      "cell_type": "code",
      "metadata": {
        "id": "voQktuJ24RIl",
        "colab_type": "code",
        "colab": {}
      },
      "source": [
        "#specifying other model parameters \n",
        "opt = keras.optimizers.Adam(learning_rate=0.0001)\n",
        "model.compile(optimizer=opt,\n",
        "              loss=tf.keras.losses.SparseCategoricalCrossentropy(from_logits=True),\n",
        "              metrics=['accuracy'])"
      ],
      "execution_count": 33,
      "outputs": []
    },
    {
      "cell_type": "code",
      "metadata": {
        "id": "M73tLoJv4c5h",
        "colab_type": "code",
        "colab": {
          "base_uri": "https://localhost:8080/",
          "height": 1000
        },
        "outputId": "431461dc-086c-4aa5-a8d2-575eab7295c9"
      },
      "source": [
        "#training the model by specifying a validation split of 25%\n",
        "history = model.fit(train_image, train_lables,batch_size = 32,validation_split=0.33, epochs=50)"
      ],
      "execution_count": 34,
      "outputs": [
        {
          "output_type": "stream",
          "text": [
            "Epoch 1/50\n",
            "1047/1047 [==============================] - 59s 56ms/step - loss: 1.9666 - accuracy: 0.2466 - val_loss: 1.7323 - val_accuracy: 0.3492\n",
            "Epoch 2/50\n",
            "1047/1047 [==============================] - 59s 57ms/step - loss: 1.6574 - accuracy: 0.3801 - val_loss: 1.6045 - val_accuracy: 0.4045\n",
            "Epoch 3/50\n",
            "1047/1047 [==============================] - 59s 57ms/step - loss: 1.5680 - accuracy: 0.4147 - val_loss: 1.5929 - val_accuracy: 0.4104\n",
            "Epoch 4/50\n",
            "1047/1047 [==============================] - 60s 57ms/step - loss: 1.5087 - accuracy: 0.4387 - val_loss: 1.5001 - val_accuracy: 0.4460\n",
            "Epoch 5/50\n",
            "1047/1047 [==============================] - 59s 56ms/step - loss: 1.4534 - accuracy: 0.4608 - val_loss: 1.4476 - val_accuracy: 0.4584\n",
            "Epoch 6/50\n",
            "1047/1047 [==============================] - 59s 57ms/step - loss: 1.4074 - accuracy: 0.4784 - val_loss: 1.4128 - val_accuracy: 0.4849\n",
            "Epoch 7/50\n",
            "1047/1047 [==============================] - 58s 55ms/step - loss: 1.3616 - accuracy: 0.5016 - val_loss: 1.3664 - val_accuracy: 0.5018\n",
            "Epoch 8/50\n",
            "1047/1047 [==============================] - 58s 56ms/step - loss: 1.3244 - accuracy: 0.5189 - val_loss: 1.3393 - val_accuracy: 0.5152\n",
            "Epoch 9/50\n",
            "1047/1047 [==============================] - 60s 58ms/step - loss: 1.2897 - accuracy: 0.5291 - val_loss: 1.3084 - val_accuracy: 0.5227\n",
            "Epoch 10/50\n",
            "1047/1047 [==============================] - 58s 56ms/step - loss: 1.2659 - accuracy: 0.5396 - val_loss: 1.3136 - val_accuracy: 0.5285\n",
            "Epoch 11/50\n",
            "1047/1047 [==============================] - 58s 56ms/step - loss: 1.2344 - accuracy: 0.5534 - val_loss: 1.2674 - val_accuracy: 0.5399\n",
            "Epoch 12/50\n",
            "1047/1047 [==============================] - 59s 56ms/step - loss: 1.2082 - accuracy: 0.5608 - val_loss: 1.2277 - val_accuracy: 0.5559\n",
            "Epoch 13/50\n",
            "1047/1047 [==============================] - 58s 56ms/step - loss: 1.1822 - accuracy: 0.5724 - val_loss: 1.2127 - val_accuracy: 0.5647\n",
            "Epoch 14/50\n",
            "1047/1047 [==============================] - 58s 56ms/step - loss: 1.1588 - accuracy: 0.5811 - val_loss: 1.2349 - val_accuracy: 0.5584\n",
            "Epoch 15/50\n",
            "1047/1047 [==============================] - 60s 57ms/step - loss: 1.1388 - accuracy: 0.5885 - val_loss: 1.1837 - val_accuracy: 0.5793\n",
            "Epoch 16/50\n",
            "1047/1047 [==============================] - 58s 55ms/step - loss: 1.1203 - accuracy: 0.5966 - val_loss: 1.1645 - val_accuracy: 0.5802\n",
            "Epoch 17/50\n",
            "1047/1047 [==============================] - 58s 55ms/step - loss: 1.0989 - accuracy: 0.6061 - val_loss: 1.1518 - val_accuracy: 0.5907\n",
            "Epoch 18/50\n",
            "1047/1047 [==============================] - 58s 55ms/step - loss: 1.0759 - accuracy: 0.6133 - val_loss: 1.1549 - val_accuracy: 0.5888\n",
            "Epoch 19/50\n",
            "1047/1047 [==============================] - 58s 55ms/step - loss: 1.0608 - accuracy: 0.6185 - val_loss: 1.1509 - val_accuracy: 0.5915\n",
            "Epoch 20/50\n",
            "1047/1047 [==============================] - 60s 58ms/step - loss: 1.0434 - accuracy: 0.6243 - val_loss: 1.1572 - val_accuracy: 0.5881\n",
            "Epoch 21/50\n",
            "1047/1047 [==============================] - 58s 56ms/step - loss: 1.0228 - accuracy: 0.6330 - val_loss: 1.1126 - val_accuracy: 0.6062\n",
            "Epoch 22/50\n",
            "1047/1047 [==============================] - 58s 55ms/step - loss: 1.0092 - accuracy: 0.6401 - val_loss: 1.1181 - val_accuracy: 0.6028\n",
            "Epoch 23/50\n",
            "1047/1047 [==============================] - 58s 56ms/step - loss: 0.9876 - accuracy: 0.6470 - val_loss: 1.1028 - val_accuracy: 0.6084\n",
            "Epoch 24/50\n",
            "1047/1047 [==============================] - 58s 55ms/step - loss: 0.9776 - accuracy: 0.6503 - val_loss: 1.0839 - val_accuracy: 0.6153\n",
            "Epoch 25/50\n",
            "1047/1047 [==============================] - 59s 56ms/step - loss: 0.9598 - accuracy: 0.6564 - val_loss: 1.0968 - val_accuracy: 0.6115\n",
            "Epoch 26/50\n",
            "1047/1047 [==============================] - 58s 56ms/step - loss: 0.9427 - accuracy: 0.6650 - val_loss: 1.0974 - val_accuracy: 0.6170\n",
            "Epoch 27/50\n",
            "1047/1047 [==============================] - 58s 55ms/step - loss: 0.9272 - accuracy: 0.6669 - val_loss: 1.0713 - val_accuracy: 0.6224\n",
            "Epoch 28/50\n",
            "1047/1047 [==============================] - 58s 55ms/step - loss: 0.9136 - accuracy: 0.6764 - val_loss: 1.0811 - val_accuracy: 0.6207\n",
            "Epoch 29/50\n",
            "1047/1047 [==============================] - 58s 55ms/step - loss: 0.9009 - accuracy: 0.6763 - val_loss: 1.0414 - val_accuracy: 0.6320\n",
            "Epoch 30/50\n",
            "1047/1047 [==============================] - 59s 57ms/step - loss: 0.8854 - accuracy: 0.6850 - val_loss: 1.0586 - val_accuracy: 0.6278\n",
            "Epoch 31/50\n",
            "1047/1047 [==============================] - 59s 56ms/step - loss: 0.8750 - accuracy: 0.6870 - val_loss: 1.0378 - val_accuracy: 0.6382\n",
            "Epoch 32/50\n",
            "1047/1047 [==============================] - 58s 55ms/step - loss: 0.8595 - accuracy: 0.6908 - val_loss: 1.0504 - val_accuracy: 0.6338\n",
            "Epoch 33/50\n",
            "1047/1047 [==============================] - 58s 55ms/step - loss: 0.8484 - accuracy: 0.6979 - val_loss: 1.0294 - val_accuracy: 0.6397\n",
            "Epoch 34/50\n",
            "1047/1047 [==============================] - 58s 55ms/step - loss: 0.8332 - accuracy: 0.7044 - val_loss: 1.0372 - val_accuracy: 0.6392\n",
            "Epoch 35/50\n",
            "1047/1047 [==============================] - 58s 55ms/step - loss: 0.8254 - accuracy: 0.7045 - val_loss: 1.0167 - val_accuracy: 0.6449\n",
            "Epoch 36/50\n",
            "1047/1047 [==============================] - 58s 56ms/step - loss: 0.8091 - accuracy: 0.7112 - val_loss: 1.0175 - val_accuracy: 0.6482\n",
            "Epoch 37/50\n",
            "1047/1047 [==============================] - 58s 55ms/step - loss: 0.7972 - accuracy: 0.7166 - val_loss: 1.0306 - val_accuracy: 0.6485\n",
            "Epoch 38/50\n",
            "1047/1047 [==============================] - 58s 55ms/step - loss: 0.7894 - accuracy: 0.7196 - val_loss: 1.0037 - val_accuracy: 0.6534\n",
            "Epoch 39/50\n",
            "1047/1047 [==============================] - 58s 55ms/step - loss: 0.7765 - accuracy: 0.7213 - val_loss: 1.0191 - val_accuracy: 0.6503\n",
            "Epoch 40/50\n",
            "1047/1047 [==============================] - 58s 56ms/step - loss: 0.7594 - accuracy: 0.7281 - val_loss: 1.0404 - val_accuracy: 0.6415\n",
            "Epoch 41/50\n",
            "1047/1047 [==============================] - 59s 57ms/step - loss: 0.7508 - accuracy: 0.7303 - val_loss: 1.0197 - val_accuracy: 0.6537\n",
            "Epoch 42/50\n",
            "1047/1047 [==============================] - 57s 55ms/step - loss: 0.7402 - accuracy: 0.7329 - val_loss: 1.0193 - val_accuracy: 0.6538\n",
            "Epoch 43/50\n",
            "1047/1047 [==============================] - 58s 55ms/step - loss: 0.7271 - accuracy: 0.7420 - val_loss: 1.0425 - val_accuracy: 0.6457\n",
            "Epoch 44/50\n",
            "1047/1047 [==============================] - 57s 55ms/step - loss: 0.7167 - accuracy: 0.7439 - val_loss: 1.0255 - val_accuracy: 0.6561\n",
            "Epoch 45/50\n",
            "1047/1047 [==============================] - 58s 55ms/step - loss: 0.7076 - accuracy: 0.7476 - val_loss: 1.0309 - val_accuracy: 0.6522\n",
            "Epoch 46/50\n",
            "1047/1047 [==============================] - 58s 55ms/step - loss: 0.6957 - accuracy: 0.7519 - val_loss: 1.0183 - val_accuracy: 0.6566\n",
            "Epoch 47/50\n",
            "1047/1047 [==============================] - 58s 56ms/step - loss: 0.6834 - accuracy: 0.7576 - val_loss: 1.0099 - val_accuracy: 0.6630\n",
            "Epoch 48/50\n",
            "1047/1047 [==============================] - 58s 55ms/step - loss: 0.6737 - accuracy: 0.7602 - val_loss: 1.0161 - val_accuracy: 0.6603\n",
            "Epoch 49/50\n",
            "1047/1047 [==============================] - 58s 55ms/step - loss: 0.6610 - accuracy: 0.7647 - val_loss: 1.0490 - val_accuracy: 0.6574\n",
            "Epoch 50/50\n",
            "1047/1047 [==============================] - 58s 55ms/step - loss: 0.6531 - accuracy: 0.7677 - val_loss: 1.0335 - val_accuracy: 0.6594\n"
          ],
          "name": "stdout"
        }
      ]
    },
    {
      "cell_type": "code",
      "metadata": {
        "id": "1FLhBp2fgqyy",
        "colab_type": "code",
        "colab": {
          "base_uri": "https://localhost:8080/",
          "height": 34
        },
        "outputId": "1f86be40-90cc-4980-fa09-1f58ee3bc957"
      },
      "source": [
        "#Evaluate accuracy on test data\n",
        "test_loss, test_acc = model.evaluate(test_image,test_labels, verbose=2)"
      ],
      "execution_count": 35,
      "outputs": [
        {
          "output_type": "stream",
          "text": [
            "313/313 - 4s - loss: 1.0451 - accuracy: 0.6619\n"
          ],
          "name": "stdout"
        }
      ]
    },
    {
      "cell_type": "code",
      "metadata": {
        "id": "PgeG4UlarPoU",
        "colab_type": "code",
        "colab": {
          "base_uri": "https://localhost:8080/",
          "height": 295
        },
        "outputId": "32097992-38c3-485c-fc85-46e574d4e5ff"
      },
      "source": [
        "#plot of accuracy on the training and validation datasets over training epochs.\n",
        "plt.plot(history.history['accuracy'])\n",
        "plt.plot(history.history['val_accuracy'])\n",
        "plt.title('model accuracy')\n",
        "plt.ylabel('accuracy')\n",
        "plt.xlabel('epoch')\n",
        "plt.legend(['train', 'test'], loc='upper left')\n",
        "plt.show()"
      ],
      "execution_count": 36,
      "outputs": [
        {
          "output_type": "display_data",
          "data": {
            "image/png": "[encoded data removed]",
            "text/plain": [
              "<Figure size 432x288 with 1 Axes>"
            ]
          },
          "metadata": {
            "tags": [],
            "needs_background": "light"
          }
        }
      ]
    },
    {
      "cell_type": "code",
      "metadata": {
        "id": "GjCPTwAqrW_7",
        "colab_type": "code",
        "colab": {
          "base_uri": "https://localhost:8080/",
          "height": 295
        },
        "outputId": "91e5ee10-a8a1-4585-a479-1d88f6b1ac2e"
      },
      "source": [
        "# plot of loss on the training and validation datasets over training epochs.\n",
        "plt.plot(history.history['loss'])\n",
        "plt.plot(history.history['val_loss'])\n",
        "plt.title('model loss')\n",
        "plt.ylabel('loss')\n",
        "plt.xlabel('epoch')\n",
        "plt.legend(['train', 'test'], loc='upper left')\n",
        "plt.show()"
      ],
      "execution_count": 37,
      "outputs": [
        {
          "output_type": "display_data",
          "data": {
            "image/png": "[encoded data removed]",
            "text/plain": [
              "<Figure size 432x288 with 1 Axes>"
            ]
          },
          "metadata": {
            "tags": [],
            "needs_background": "light"
          }
        }
      ]
    },
    {
      "cell_type": "code",
      "metadata": {
        "id": "AfjtghnljAST",
        "colab_type": "code",
        "colab": {}
      },
      "source": [
        "#making predictions using the model - Softmax layer is used to convert the logits to probabilities\n",
        "probability_model = tf.keras.Sequential([model, tf.keras.layers.Softmax()])\n",
        "predictions = probability_model.predict(test_image)"
      ],
      "execution_count": 38,
      "outputs": []
    },
    {
      "cell_type": "code",
      "metadata": {
        "id": "kU_KSgHbeyNA",
        "colab_type": "code",
        "colab": {}
      },
      "source": [
        "#function to plot the test image and specify it's true and predicted label\n",
        "def plot_image(i, predictions_array, true_label, img):\n",
        "  predictions_array, true_label, img = predictions_array, true_label[i], img[i]\n",
        "  plt.grid(False)\n",
        "  plt.xticks([])\n",
        "  plt.yticks([])\n",
        "\n",
        "  plt.imshow(img, cmap=plt.cm.binary)\n",
        "\n",
        "  predicted_label = np.argmax(predictions_array)\n",
        "  if predicted_label == true_label:\n",
        "    color = 'blue'\n",
        "  else:\n",
        "    color = 'red'\n",
        "\n",
        "  plt.xlabel(\"{} {:2.0f}% ({})\".format(label_names[predicted_label],\n",
        "                                100*np.max(predictions_array),\n",
        "                                label_names[true_label]),\n",
        "                                color=color)\n",
        "\n",
        "def plot_value_array(i, predictions_array, true_label):\n",
        "  predictions_array, true_label = predictions_array, true_label[i]\n",
        "  plt.grid(False)\n",
        "  plt.xticks(range(10))\n",
        "  plt.yticks([])\n",
        "  thisplot = plt.bar(range(10), predictions_array, color=\"#777777\")\n",
        "  plt.ylim([0, 1])\n",
        "  predicted_label = np.argmax(predictions_array)\n",
        "\n",
        "  thisplot[predicted_label].set_color('red')\n",
        "  thisplot[true_label].set_color('blue')"
      ],
      "execution_count": null,
      "outputs": []
    },
    {
      "cell_type": "code",
      "metadata": {
        "id": "aPBoYuNpswZ-",
        "colab_type": "code",
        "colab": {
          "base_uri": "https://localhost:8080/",
          "height": 1000
        },
        "outputId": "7584a41f-f5c0-4163-b73f-6af3490f2f6c"
      },
      "source": [
        "num_cols = 2\n",
        "num_rows = 5\n",
        "plt.figure(figsize=(4*num_cols,4*num_rows))\n",
        "for i in range(0,6):\n",
        "    plt.subplot(num_rows, num_cols, 2*i+1)\n",
        "    plot_image(i, predictions[i], test_labels, test_image)\n",
        "    plt.subplot(num_rows, num_cols, 2*i+2)\n",
        "    plot_value_array(i, predictions[i],  test_labels)\n",
        "plt.tight_layout()\n",
        "plt.show()"
      ],
      "execution_count": null,
      "outputs": [
        {
          "output_type": "error",
          "ename": "ValueError",
          "evalue": "ignored",
          "traceback": [
            "\u001b[0;31m---------------------------------------------------------------------------\u001b[0m",
            "\u001b[0;31mValueError\u001b[0m                                Traceback (most recent call last)",
            "\u001b[0;32m<ipython-input-34-a71cc113f276>\u001b[0m in \u001b[0;36m<module>\u001b[0;34m()\u001b[0m\n\u001b[1;32m      3\u001b[0m \u001b[0mplt\u001b[0m\u001b[0;34m.\u001b[0m\u001b[0mfigure\u001b[0m\u001b[0;34m(\u001b[0m\u001b[0mfigsize\u001b[0m\u001b[0;34m=\u001b[0m\u001b[0;34m(\u001b[0m\u001b[0;36m4\u001b[0m\u001b[0;34m*\u001b[0m\u001b[0mnum_cols\u001b[0m\u001b[0;34m,\u001b[0m\u001b[0;36m4\u001b[0m\u001b[0;34m*\u001b[0m\u001b[0mnum_rows\u001b[0m\u001b[0;34m)\u001b[0m\u001b[0;34m)\u001b[0m\u001b[0;34m\u001b[0m\u001b[0;34m\u001b[0m\u001b[0m\n\u001b[1;32m      4\u001b[0m \u001b[0;32mfor\u001b[0m \u001b[0mi\u001b[0m \u001b[0;32min\u001b[0m \u001b[0mrange\u001b[0m\u001b[0;34m(\u001b[0m\u001b[0;36m0\u001b[0m\u001b[0;34m,\u001b[0m\u001b[0;36m6\u001b[0m\u001b[0;34m)\u001b[0m\u001b[0;34m:\u001b[0m\u001b[0;34m\u001b[0m\u001b[0;34m\u001b[0m\u001b[0m\n\u001b[0;32m----> 5\u001b[0;31m     \u001b[0mplt\u001b[0m\u001b[0;34m.\u001b[0m\u001b[0msubplot\u001b[0m\u001b[0;34m(\u001b[0m\u001b[0mnum_rows\u001b[0m\u001b[0;34m,\u001b[0m \u001b[0mnum_cols\u001b[0m\u001b[0;34m,\u001b[0m \u001b[0;36m2\u001b[0m\u001b[0;34m*\u001b[0m\u001b[0mi\u001b[0m\u001b[0;34m+\u001b[0m\u001b[0;36m1\u001b[0m\u001b[0;34m)\u001b[0m\u001b[0;34m\u001b[0m\u001b[0;34m\u001b[0m\u001b[0m\n\u001b[0m\u001b[1;32m      6\u001b[0m     \u001b[0mplot_image\u001b[0m\u001b[0;34m(\u001b[0m\u001b[0mi\u001b[0m\u001b[0;34m,\u001b[0m \u001b[0mpredictions\u001b[0m\u001b[0;34m[\u001b[0m\u001b[0mi\u001b[0m\u001b[0;34m]\u001b[0m\u001b[0;34m,\u001b[0m \u001b[0mtest_labels\u001b[0m\u001b[0;34m,\u001b[0m \u001b[0mtest_image\u001b[0m\u001b[0;34m)\u001b[0m\u001b[0;34m\u001b[0m\u001b[0;34m\u001b[0m\u001b[0m\n\u001b[1;32m      7\u001b[0m     \u001b[0mplt\u001b[0m\u001b[0;34m.\u001b[0m\u001b[0msubplot\u001b[0m\u001b[0;34m(\u001b[0m\u001b[0mnum_rows\u001b[0m\u001b[0;34m,\u001b[0m \u001b[0mnum_cols\u001b[0m\u001b[0;34m,\u001b[0m \u001b[0;36m2\u001b[0m\u001b[0;34m*\u001b[0m\u001b[0mi\u001b[0m\u001b[0;34m+\u001b[0m\u001b[0;36m2\u001b[0m\u001b[0;34m)\u001b[0m\u001b[0;34m\u001b[0m\u001b[0;34m\u001b[0m\u001b[0m\n",
            "\u001b[0;32m/usr/local/lib/python3.6/dist-packages/matplotlib/pyplot.py\u001b[0m in \u001b[0;36msubplot\u001b[0;34m(*args, **kwargs)\u001b[0m\n\u001b[1;32m   1028\u001b[0m \u001b[0;34m\u001b[0m\u001b[0m\n\u001b[1;32m   1029\u001b[0m     \u001b[0mfig\u001b[0m \u001b[0;34m=\u001b[0m \u001b[0mgcf\u001b[0m\u001b[0;34m(\u001b[0m\u001b[0;34m)\u001b[0m\u001b[0;34m\u001b[0m\u001b[0;34m\u001b[0m\u001b[0m\n\u001b[0;32m-> 1030\u001b[0;31m     \u001b[0ma\u001b[0m \u001b[0;34m=\u001b[0m \u001b[0mfig\u001b[0m\u001b[0;34m.\u001b[0m\u001b[0madd_subplot\u001b[0m\u001b[0;34m(\u001b[0m\u001b[0;34m*\u001b[0m\u001b[0margs\u001b[0m\u001b[0;34m,\u001b[0m \u001b[0;34m**\u001b[0m\u001b[0mkwargs\u001b[0m\u001b[0;34m)\u001b[0m\u001b[0;34m\u001b[0m\u001b[0;34m\u001b[0m\u001b[0m\n\u001b[0m\u001b[1;32m   1031\u001b[0m     \u001b[0mbbox\u001b[0m \u001b[0;34m=\u001b[0m \u001b[0ma\u001b[0m\u001b[0;34m.\u001b[0m\u001b[0mbbox\u001b[0m\u001b[0;34m\u001b[0m\u001b[0;34m\u001b[0m\u001b[0m\n\u001b[1;32m   1032\u001b[0m     \u001b[0mbyebye\u001b[0m \u001b[0;34m=\u001b[0m \u001b[0;34m[\u001b[0m\u001b[0;34m]\u001b[0m\u001b[0;34m\u001b[0m\u001b[0;34m\u001b[0m\u001b[0m\n",
            "\u001b[0;32m/usr/local/lib/python3.6/dist-packages/matplotlib/figure.py\u001b[0m in \u001b[0;36madd_subplot\u001b[0;34m(self, *args, **kwargs)\u001b[0m\n\u001b[1;32m   1417\u001b[0m                     \u001b[0mself\u001b[0m\u001b[0;34m.\u001b[0m\u001b[0m_axstack\u001b[0m\u001b[0;34m.\u001b[0m\u001b[0mremove\u001b[0m\u001b[0;34m(\u001b[0m\u001b[0max\u001b[0m\u001b[0;34m)\u001b[0m\u001b[0;34m\u001b[0m\u001b[0;34m\u001b[0m\u001b[0m\n\u001b[1;32m   1418\u001b[0m \u001b[0;34m\u001b[0m\u001b[0m\n\u001b[0;32m-> 1419\u001b[0;31m             \u001b[0ma\u001b[0m \u001b[0;34m=\u001b[0m \u001b[0msubplot_class_factory\u001b[0m\u001b[0;34m(\u001b[0m\u001b[0mprojection_class\u001b[0m\u001b[0;34m)\u001b[0m\u001b[0;34m(\u001b[0m\u001b[0mself\u001b[0m\u001b[0;34m,\u001b[0m \u001b[0;34m*\u001b[0m\u001b[0margs\u001b[0m\u001b[0;34m,\u001b[0m \u001b[0;34m**\u001b[0m\u001b[0mkwargs\u001b[0m\u001b[0;34m)\u001b[0m\u001b[0;34m\u001b[0m\u001b[0;34m\u001b[0m\u001b[0m\n\u001b[0m\u001b[1;32m   1420\u001b[0m \u001b[0;34m\u001b[0m\u001b[0m\n\u001b[1;32m   1421\u001b[0m         \u001b[0;32mreturn\u001b[0m \u001b[0mself\u001b[0m\u001b[0;34m.\u001b[0m\u001b[0m_add_axes_internal\u001b[0m\u001b[0;34m(\u001b[0m\u001b[0mkey\u001b[0m\u001b[0;34m,\u001b[0m \u001b[0ma\u001b[0m\u001b[0;34m)\u001b[0m\u001b[0;34m\u001b[0m\u001b[0;34m\u001b[0m\u001b[0m\n",
            "\u001b[0;32m/usr/local/lib/python3.6/dist-packages/matplotlib/axes/_subplots.py\u001b[0m in \u001b[0;36m__init__\u001b[0;34m(self, fig, *args, **kwargs)\u001b[0m\n\u001b[1;32m     64\u001b[0m                 \u001b[0;32mif\u001b[0m \u001b[0mnum\u001b[0m \u001b[0;34m<\u001b[0m \u001b[0;36m1\u001b[0m \u001b[0;32mor\u001b[0m \u001b[0mnum\u001b[0m \u001b[0;34m>\u001b[0m \u001b[0mrows\u001b[0m\u001b[0;34m*\u001b[0m\u001b[0mcols\u001b[0m\u001b[0;34m:\u001b[0m\u001b[0;34m\u001b[0m\u001b[0;34m\u001b[0m\u001b[0m\n\u001b[1;32m     65\u001b[0m                     raise ValueError(\n\u001b[0;32m---> 66\u001b[0;31m                         f\"num must be 1 <= num <= {rows*cols}, not {num}\")\n\u001b[0m\u001b[1;32m     67\u001b[0m                 self._subplotspec = GridSpec(\n\u001b[1;32m     68\u001b[0m                         rows, cols, figure=self.figure)[int(num) - 1]\n",
            "\u001b[0;31mValueError\u001b[0m: num must be 1 <= num <= 10, not 11"
          ]
        },
        {
          "output_type": "display_data",
          "data": {
            "image/png": "[encoded data removed]",
            "text/plain": [
              "<Figure size 576x1440 with 10 Axes>"
            ]
          },
          "metadata": {
            "tags": [],
            "needs_background": "light"
          }
        }
      ]
    }
  ]
}